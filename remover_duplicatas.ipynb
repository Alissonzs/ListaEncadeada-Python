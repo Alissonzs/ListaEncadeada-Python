class Node:
    def __init__(self, data):
        self.data = data
        self.next = None

class LinkedList:
    def __init__(self):
        self.head = None
    
    def inserir(self, data):
        novo_no = Node(data)
        novo_no.next = self.head
        self.head = novo_no
    
    def exibir_lista(self):
        current = self.head
        elementos = []
        while current:
            elementos.append(current.data)
            current = current.next
        print("Lista Encadeada:", elementos)
    
    def remover_duplicados(self):
        if not self.head:
            return
        
        valores_vistos = set()
        current = self.head
        valores_vistos.add(current.data)
        
        while current.next:
            if current.next.data in valores_vistos:
                current.next = current.next.next  # Remove o nó duplicado
            else:
                valores_vistos.add(current.next.data)
                current = current.next

# Testando a implementação
lista = LinkedList()
valores = [3, 5, 7, 3, 2, 7, 8, 5, 10, 2]
for val in valores:
    lista.inserir(val)

print("Antes da remoção de duplicatas:")
lista.exibir_lista()

lista.remover_duplicados()
print("Após a remoção de duplicatas:")
lista.exibir_lista()
