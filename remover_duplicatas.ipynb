{
 "cells": [
  {
   "cell_type": "code",
   "execution_count": 2,
   "metadata": {},
   "outputs": [
    {
     "name": "stdout",
     "output_type": "stream",
     "text": [
      "Antes da remoção de duplicatas:\n",
      "Lista Encadeada: [2, 10, 5, 8, 7, 2, 3, 7, 5, 3]\n",
      "Após a remoção de duplicatas:\n",
      "Lista Encadeada: [2, 10, 5, 8, 7, 3]\n"
     ]
    }
   ],
   "source": [
    "class Node:\n",
    "    def __init__(self, data):\n",
    "        self.data = data\n",
    "        self.next = None\n",
    "\n",
    "class LinkedList:\n",
    "    def __init__(self):\n",
    "        self.head = None\n",
    "    \n",
    "    def inserir(self, data):\n",
    "        novo_no = Node(data)\n",
    "        novo_no.next = self.head\n",
    "        self.head = novo_no\n",
    "    \n",
    "    def exibir_lista(self):\n",
    "        current = self.head\n",
    "        elementos = []\n",
    "        while current:\n",
    "            elementos.append(current.data)\n",
    "            current = current.next\n",
    "        print(\"Lista Encadeada:\", elementos)\n",
    "    \n",
    "    def remover_duplicados(self):\n",
    "        if not self.head:\n",
    "            return\n",
    "        \n",
    "        valores_vistos = set()\n",
    "        current = self.head\n",
    "        valores_vistos.add(current.data)\n",
    "        \n",
    "        while current.next:\n",
    "            if current.next.data in valores_vistos:\n",
    "                current.next = current.next.next  # Remove o nó duplicado\n",
    "            else:\n",
    "                valores_vistos.add(current.next.data)\n",
    "                current = current.next\n",
    "\n",
    "# Testando a implementação\n",
    "lista = LinkedList()\n",
    "valores = [3, 5, 7, 3, 2, 7, 8, 5, 10, 2]\n",
    "for val in valores:\n",
    "    lista.inserir(val)\n",
    "\n",
    "print(\"Antes da remoção de duplicatas:\")\n",
    "lista.exibir_lista()\n",
    "\n",
    "lista.remover_duplicados()\n",
    "print(\"Após a remoção de duplicatas:\")\n",
    "lista.exibir_lista()\n"
   ]
  }
 ],
 "metadata": {
  "kernelspec": {
   "display_name": "Python 3",
   "language": "python",
   "name": "python3"
  },
  "language_info": {
   "codemirror_mode": {
    "name": "ipython",
    "version": 3
   },
   "file_extension": ".py",
   "mimetype": "text/x-python",
   "name": "python",
   "nbconvert_exporter": "python",
   "pygments_lexer": "ipython3",
   "version": "3.13.2"
  }
 },
 "nbformat": 4,
 "nbformat_minor": 2
}
